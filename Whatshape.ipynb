{
  "nbformat": 4,
  "nbformat_minor": 0,
  "metadata": {
    "colab": {
      "name": "Whatshape.ipynb",
      "provenance": [],
      "collapsed_sections": []
    },
    "kernelspec": {
      "name": "python3",
      "display_name": "Python 3"
    },
    "language_info": {
      "name": "python"
    }
  },
  "cells": [
    {
      "cell_type": "code",
      "metadata": {
        "colab": {
          "base_uri": "https://localhost:8080/"
        },
        "id": "fc78ekYq4trZ",
        "outputId": "8be35f89-26e0-44ff-aac5-03e21305db7a"
      },
      "source": [
        "from google.colab import drive\n",
        "drive.mount('/content/drive')"
      ],
      "execution_count": null,
      "outputs": [
        {
          "output_type": "stream",
          "text": [
            "Drive already mounted at /content/drive; to attempt to forcibly remount, call drive.mount(\"/content/drive\", force_remount=True).\n"
          ],
          "name": "stdout"
        }
      ]
    },
    {
      "cell_type": "code",
      "metadata": {
        "id": "5VtlV79Y4ZoV"
      },
      "source": [
        "import pandas as pd\n",
        "import numpy as np\n",
        "\n",
        "import re \n",
        "import matplotlib.pyplot as plt\n",
        "\n"
      ],
      "execution_count": null,
      "outputs": []
    },
    {
      "cell_type": "code",
      "metadata": {
        "id": "UTmceiQx4gDb"
      },
      "source": [
        "df = pd.read_excel (r'/content/drive/MyDrive/Internship/Project 4 - Simulating Subjective Judgment Aggregation/TlabWinter2021/yusuke_2021_spacialexperience_runme_raw_21_06_22.xlsx')\n",
        "#print (df)"
      ],
      "execution_count": null,
      "outputs": []
    },
    {
      "cell_type": "code",
      "metadata": {
        "id": "UoWBrTyv5xb7"
      },
      "source": [
        "df = pd.DataFrame(df, columns= ['values.img_file', 'response'])\n",
        "#print(df)"
      ],
      "execution_count": null,
      "outputs": []
    },
    {
      "cell_type": "code",
      "metadata": {
        "colab": {
          "base_uri": "https://localhost:8080/"
        },
        "id": "aA3EjkO3xIC6",
        "outputId": "e2d1a836-6edc-4cfd-ab25-ccb51fdda990"
      },
      "source": [
        "totalRows = df.shape[0]\n",
        "print(totalRows)"
      ],
      "execution_count": null,
      "outputs": [
        {
          "output_type": "stream",
          "text": [
            "735\n"
          ],
          "name": "stdout"
        }
      ]
    },
    {
      "cell_type": "markdown",
      "metadata": {
        "id": "P5Dog-eoi6ny"
      },
      "source": [
        "##Creat columns and sort the data"
      ]
    },
    {
      "cell_type": "code",
      "metadata": {
        "id": "oM6YscBnNoa5"
      },
      "source": [
        "def extract(df):\n",
        "  shape = pd.DataFrame(df, columns= ['values.img_file'])\n",
        "  response = pd.DataFrame(df, columns= ['response'])\n",
        "\n",
        "  # extract \"Did you see each dots\"\n",
        "  temp = response.iloc[1:80:4]\n",
        "  DidYouSeeEachDots = []\n",
        "  for ind in temp.index:\n",
        "    DidYouSeeEachDots.append(temp['response'][ind])\n",
        "\n",
        "  # extract dots_actual\n",
        "  temp = shape.iloc[0:80:4]\n",
        "  dots_actual = []\n",
        "  for ind in temp.index:\n",
        "    dots_actual.append([int(num) for num in re.findall(r\"\\d+\",  shape['values.img_file'][ind])])\n",
        "\n",
        "  # extract dots_predict\n",
        "  temp = response.iloc[2:80:4]\n",
        "  dots_predict = []\n",
        "  for ind in temp.index:\n",
        "    dots_predict.append(temp['response'][ind])\n",
        "\n",
        "  # extract shape_actual\n",
        "  # you will have to extract manually later\n",
        "  temp = shape.iloc[3:80:4]\n",
        "  shape_actual = []\n",
        "  for ind in temp.index:\n",
        "    # extract string \n",
        "    shape_actual.append(temp['values.img_file'][ind])\n",
        "\n",
        "  # extract shape_predict\n",
        "  temp = response.iloc[3:80:4]\n",
        "  shape_predict = []\n",
        "  for ind in temp.index:\n",
        "    # add DeepLearning\n",
        "    shape_predict.append(temp['response'][ind])\n",
        "\n",
        "  # extract general info\n",
        "  general_info = response.iloc[80:86]\n",
        "\n",
        "  return DidYouSeeEachDots, dots_actual, dots_predict, shape_actual, shape_predict, general_info"
      ],
      "execution_count": null,
      "outputs": []
    },
    {
      "cell_type": "markdown",
      "metadata": {
        "id": "Y6w4zrr-0ATD"
      },
      "source": [
        "##Save sorted dataframe to Excel"
      ]
    },
    {
      "cell_type": "code",
      "metadata": {
        "id": "i3_n0fza0EvL"
      },
      "source": [
        "def SaveExcel(shape_actual, shape_predict, i):\n",
        "  df1 = pd.DataFrame(list(zip(shape_actual, shape_predict)),  columns=['shape_actual', 'shape_predict'])\n",
        "  if i == 0:\n",
        "    df1.to_excel(\"output.xlsx\", sheet_name='Sheet_name' + str(i))\n",
        "  else: #add to existing sheet\n",
        "    with pd.ExcelWriter('output.xlsx', mode='a') as writer:\n",
        "      df1.to_excel(writer, sheet_name='Sheet_name' + str(i))\n",
        "  print(df1)"
      ],
      "execution_count": null,
      "outputs": []
    },
    {
      "cell_type": "markdown",
      "metadata": {
        "id": "x8DJ6mqWuFtL"
      },
      "source": [
        "##Plot Confusion matrix"
      ]
    },
    {
      "cell_type": "code",
      "metadata": {
        "id": "pRD1Kg0KuS_D"
      },
      "source": [
        "def confusionMatrix(shape_actual, shape_predict, i):\n",
        "  #confusinon matrix\n",
        "  from sklearn.metrics import confusion_matrix\n",
        "  labels=[\"Line\", \"Triangle\", \"Circle\", \"dots\", \"BlankScreen\", \"NoResponse\"]\n",
        "  x = confusion_matrix(shape_predict, shape_actual, labels=labels)\n",
        "  plt.imshow(x, cmap='Blues', interpolation='nearest')\n",
        "  plt.title('Confusion matrix of the subject' + str(i))\n",
        "  plt.xlabel('True')\n",
        "  plt.ylabel('Predicted')\n",
        "  plt.colorbar()\n",
        "  plt.show()\n",
        "\n",
        "#https://stackoverflow.com/questions/19233771/sklearn-plot-confusion-matrix-with-labels"
      ],
      "execution_count": null,
      "outputs": []
    },
    {
      "cell_type": "markdown",
      "metadata": {
        "id": "1aH8TzCBM0y6"
      },
      "source": [
        "#Main Script "
      ]
    },
    {
      "cell_type": "markdown",
      "metadata": {
        "id": "c1MhBjV79nVI"
      },
      "source": [
        "##Save each participants to different sheets"
      ]
    },
    {
      "cell_type": "code",
      "metadata": {
        "id": "YSVRDS3b6ZGg",
        "colab": {
          "base_uri": "https://localhost:8080/"
        },
        "outputId": "724f1adc-5fcb-4832-9404-afbab6b64dce"
      },
      "source": [
        "df_list = list()\n",
        "for i in range(int(totalRows/105 )):\n",
        "  temp = df.iloc[105*i+17:105*i+105] \n",
        "  df_list.append(temp)\n",
        "  DidYouSeeEachDots, dots_actual, dots_predict, shape_actual, shape_predict, general_info = extract(df_list[i])\n",
        "  SaveExcel(shape_actual, shape_predict, i)"
      ],
      "execution_count": null,
      "outputs": [
        {
          "output_type": "stream",
          "text": [
            "            shape_actual shape_predict\n",
            "0        0RandomDots.jpg  blank-screen\n",
            "1   40RandomDotsLine.jpg          line\n",
            "2   20RandomDotsLine.jpg         curve\n",
            "3        0RandomDots.jpg           NaN\n",
            "4        0RandomDots.jpg           NaN\n",
            "5        0RandomDots.jpg           NaN\n",
            "6   70RandomDotsLine.jpg      triangle\n",
            "7        8RandomDots.jpg           NaN\n",
            "8        0RandomDots.jpg           NaN\n",
            "9       16RandomDots.jpg           NaN\n",
            "10      32RandomDots.jpg           NaN\n",
            "11  50RandomDotsLine.jpg         curve\n",
            "12       1RandomDots.jpg           NaN\n",
            "13     128RandomDots.jpg           NaN\n",
            "14       2RandomDots.jpg           NaN\n",
            "15       4RandomDots.jpg           NaN\n",
            "16      64RandomDots.jpg           NaN\n",
            "17  60RandomDotsLine.jpg        circle\n",
            "18  30RandomDotsLine.jpg          line\n",
            "19       0RandomDots.jpg           NaN\n",
            "            shape_actual         shape_predict\n",
            "0        0RandomDots.jpg             many-dots\n",
            "1   20RandomDotsLine.jpg   many-dots-in-a-line\n",
            "2        2RandomDots.jpg         only-two-dots\n",
            "3       16RandomDots.jpg        scattered-dots\n",
            "4   70RandomDotsLine.jpg  A-triangle-with-dots\n",
            "5        0RandomDots.jpg               no-dots\n",
            "6      128RandomDots.jpg        very-many-dots\n",
            "7        0RandomDots.jpg               no-dots\n",
            "8        0RandomDots.jpg                    no\n",
            "9        0RandomDots.jpg                    no\n",
            "10       4RandomDots.jpg  four-dots-scaretterd\n",
            "11  40RandomDotsLine.jpg             many-dots\n",
            "12  60RandomDotsLine.jpg    dots-with-circular\n",
            "13  50RandomDotsLine.jpg     line-made-of-dots\n",
            "14      64RandomDots.jpg                  many\n",
            "15      32RandomDots.jpg                  many\n",
            "16       8RandomDots.jpg              few-dots\n",
            "17  30RandomDotsLine.jpg        dots-in-a-line\n",
            "18       1RandomDots.jpg                    no\n",
            "19       0RandomDots.jpg                    no\n",
            "            shape_actual        shape_predict\n",
            "0        0RandomDots.jpg         blank-screen\n",
            "1       64RandomDots.jpg          Isawfewdots\n",
            "2   40RandomDotsLine.jpg             few-dots\n",
            "3      128RandomDots.jpg             few-dots\n",
            "4        2RandomDots.jpg              towdots\n",
            "5       32RandomDots.jpg             few-dots\n",
            "6   60RandomDotsLine.jpg             few-dots\n",
            "7        0RandomDots.jpg               nodots\n",
            "8        1RandomDots.jpg              onedots\n",
            "9        0RandomDots.jpg         blank-screen\n",
            "10  20RandomDotsLine.jpg             few-dots\n",
            "11       8RandomDots.jpg             few-dots\n",
            "12       4RandomDots.jpg             few-dots\n",
            "13       0RandomDots.jpg               onedot\n",
            "14       0RandomDots.jpg               nodots\n",
            "15  70RandomDotsLine.jpg  traingleinthescreen\n",
            "16      16RandomDots.jpg             few-dots\n",
            "17  30RandomDotsLine.jpg             few-dots\n",
            "18  50RandomDotsLine.jpg             few-dots\n",
            "19       0RandomDots.jpg               onedot\n",
            "            shape_actual                       shape_predict\n",
            "0   30RandomDotsLine.jpg                      a-line-of-dots\n",
            "1        4RandomDots.jpg                 dots-at-each-corner\n",
            "2        0RandomDots.jpg                        blank-screen\n",
            "3        2RandomDots.jpg        two-dots-at-opposing-corners\n",
            "4       32RandomDots.jpg  bottom-right-corner-seemed-rounded\n",
            "5        1RandomDots.jpg            blank-space-with-one-dot\n",
            "6       16RandomDots.jpg            left-side-seemed-rounded\n",
            "7   50RandomDotsLine.jpg               a-line-of-curved-dots\n",
            "8        0RandomDots.jpg                        blank-screen\n",
            "9        0RandomDots.jpg                        blank-screen\n",
            "10       0RandomDots.jpg                        blank-screen\n",
            "11  20RandomDotsLine.jpg                dots-formed-a-smiley\n",
            "12  40RandomDotsLine.jpg          diagonal-line-on-the-right\n",
            "13  70RandomDotsLine.jpg         a-triangle-not-made-of-dots\n",
            "14       0RandomDots.jpg                        blank-screen\n",
            "15       8RandomDots.jpg        black-space-with-a-fews-dots\n",
            "16      64RandomDots.jpg         about-half-white-half-black\n",
            "17  60RandomDotsLine.jpg                            a-circle\n",
            "18     128RandomDots.jpg                         random-dots\n",
            "19       0RandomDots.jpg                        blank-screen\n",
            "            shape_actual                                      shape_predict\n",
            "0        8RandomDots.jpg                            dots-at-different-spots\n",
            "1        4RandomDots.jpg                               four-dots-spread-out\n",
            "2        0RandomDots.jpg                                       blank-screen\n",
            "3        0RandomDots.jpg                                       blank-screen\n",
            "4   60RandomDotsLine.jpg      a-bunch-of-dots-and-dots-that-formed-a-circle\n",
            "5       16RandomDots.jpg                                    a-bunch-of-dots\n",
            "6        1RandomDots.jpg                                       a-single-dot\n",
            "7        2RandomDots.jpg  two-dots-one-in-the-upper-left-and-one-in-the-...\n",
            "8      128RandomDots.jpg                                       lots-of-dots\n",
            "9   20RandomDotsLine.jpg  some-dots-that-formed-a-curved-line-in-the-cen...\n",
            "10      64RandomDots.jpg                           dots-in-random-positions\n",
            "11       0RandomDots.jpg                                       blank-screen\n",
            "12  30RandomDotsLine.jpg  some-dots-that-formed-a-line-that-started-in-t...\n",
            "13  70RandomDotsLine.jpg     some-dots-formed-a-triangle-in-the-bottom-left\n",
            "14       0RandomDots.jpg                                       blank-screen\n",
            "15  50RandomDotsLine.jpg  some-dots-that-formed-a-curved-line-that-was-s...\n",
            "16       0RandomDots.jpg                                       blank-screen\n",
            "17      32RandomDots.jpg                              random-dots-scattered\n",
            "18  40RandomDotsLine.jpg  some-dots-that-formed-a-line-going-from-the-bo...\n",
            "19       0RandomDots.jpg                                       blank-screen\n",
            "            shape_actual                    shape_predict\n",
            "0        0RandomDots.jpg                     blank-screen\n",
            "1        8RandomDots.jpg                       white-dots\n",
            "2       16RandomDots.jpg                       white-dots\n",
            "3   70RandomDotsLine.jpg         white-triangle-with-dots\n",
            "4      128RandomDots.jpg                       white-dots\n",
            "5        1RandomDots.jpg                        white-dot\n",
            "6       32RandomDots.jpg                       white-dots\n",
            "7       64RandomDots.jpg                       white-dots\n",
            "8        2RandomDots.jpg                       white-dots\n",
            "9   60RandomDotsLine.jpg  white-dots-in-a-circular-patern\n",
            "10       0RandomDots.jpg                            blank\n",
            "11       0RandomDots.jpg                            blank\n",
            "12       0RandomDots.jpg                            blank\n",
            "13  50RandomDotsLine.jpg             white-dots-in-an-arc\n",
            "14       4RandomDots.jpg                       white-dots\n",
            "15       0RandomDots.jpg                            blank\n",
            "16       0RandomDots.jpg                            blank\n",
            "17  30RandomDotsLine.jpg        white-dots-forming-a-line\n",
            "18  40RandomDotsLine.jpg                            blank\n",
            "19  20RandomDotsLine.jpg                            blank\n",
            "            shape_actual        shape_predict\n",
            "0        0RandomDots.jpg               NODOTS\n",
            "1        0RandomDots.jpg       NODOTSONSCREEN\n",
            "2       32RandomDots.jpg          BLANKSCREEN\n",
            "3       16RandomDots.jpg       DOTS-SEPERATED\n",
            "4        4RandomDots.jpg        SEPERATE-DOTS\n",
            "5        0RandomDots.jpg              NO-DOTS\n",
            "6       64RandomDots.jpg  DOTS-ON-BLANKSCREEN\n",
            "7      128RandomDots.jpg            MANY-DOTS\n",
            "8        1RandomDots.jpg           SINGLE-DOT\n",
            "9        2RandomDots.jpg        SEPERATE-DOTS\n",
            "10  20RandomDotsLine.jpg        SMILELEY-DOTS\n",
            "11       0RandomDots.jpg              NO-DOTS\n",
            "12       0RandomDots.jpg              NO-DOTS\n",
            "13  60RandomDotsLine.jpg           CIRCLEDOTS\n",
            "14       8RandomDots.jpg                 DOTS\n",
            "15  50RandomDotsLine.jpg        SLANTING-DOTS\n",
            "16  30RandomDotsLine.jpg    DOWNWARD-LINEDOTS\n",
            "17  40RandomDotsLine.jpg         BLANK-SCREEN\n",
            "18       0RandomDots.jpg              NO-DOTS\n",
            "19  70RandomDotsLine.jpg       TRIANGLE-SHAPE\n"
          ],
          "name": "stdout"
        }
      ]
    },
    {
      "cell_type": "markdown",
      "metadata": {
        "id": "FmIzO5n86ic1"
      },
      "source": [
        "##analysis on manually modified data on Excel"
      ]
    },
    {
      "cell_type": "code",
      "metadata": {
        "colab": {
          "base_uri": "https://localhost:8080/",
          "height": 1000
        },
        "id": "rv-vyTS46ob_",
        "outputId": "3afecdf2-16aa-4f15-86db-8ad7d04d6dc5"
      },
      "source": [
        "#labels=[\"Line\", \"Triangle\", \"Circle\", \"Dots\", \"BlankScreen\", \"NoResponse\"]\n",
        "for i in range(7):\n",
        "\n",
        "  df = pd.read_excel (r'/content/drive/MyDrive/Internship/Project 4 - Simulating Subjective Judgment Aggregation/TlabWinter2021/output_shape.xlsx', sheet_name='Sheet_name' + str(i))\n",
        "  shape_actual = pd.DataFrame(df, columns= ['shape_actual'])\n",
        "  shape_predict = pd.DataFrame(df, columns= ['shape_predict'])\n",
        "  #print (shape_actual)\n",
        "  #print(shape_predict)\n",
        "  confusionMatrix(shape_actual, shape_predict, i)"
      ],
      "execution_count": null,
      "outputs": [
        {
          "output_type": "display_data",
          "data": {
            "image/png": "[encoded data removed]",
            "text/plain": [
              "<Figure size 432x288 with 2 Axes>"
            ]
          },
          "metadata": {
            "tags": [],
            "needs_background": "light"
          }
        },
        {
          "output_type": "display_data",
          "data": {
            "image/png": "[encoded data removed]",
            "text/plain": [
              "<Figure size 432x288 with 2 Axes>"
            ]
          },
          "metadata": {
            "tags": [],
            "needs_background": "light"
          }
        },
        {
          "output_type": "display_data",
          "data": {
            "image/png": "[encoded data removed]",
            "text/plain": [
              "<Figure size 432x288 with 2 Axes>"
            ]
          },
          "metadata": {
            "tags": [],
            "needs_background": "light"
          }
        },
        {
          "output_type": "display_data",
          "data": {
            "image/png": "[encoded data removed]",
            "text/plain": [
              "<Figure size 432x288 with 2 Axes>"
            ]
          },
          "metadata": {
            "tags": [],
            "needs_background": "light"
          }
        },
        {
          "output_type": "display_data",
          "data": {
            "image/png": "[encoded data removed]",
            "text/plain": [
              "<Figure size 432x288 with 2 Axes>"
            ]
          },
          "metadata": {
            "tags": [],
            "needs_background": "light"
          }
        },
        {
          "output_type": "display_data",
          "data": {
            "image/png": "[encoded data removed]",
            "text/plain": [
              "<Figure size 432x288 with 2 Axes>"
            ]
          },
          "metadata": {
            "tags": [],
            "needs_background": "light"
          }
        },
        {
          "output_type": "display_data",
          "data": {
            "image/png": "[encoded data removed]",
            "text/plain": [
              "<Figure size 432x288 with 2 Axes>"
            ]
          },
          "metadata": {
            "tags": [],
            "needs_background": "light"
          }
        }
      ]
    }
  ]
}